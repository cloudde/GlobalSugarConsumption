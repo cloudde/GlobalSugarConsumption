{
  "metadata": {
    "kernelspec": {
      "name": "python",
      "display_name": "Python (Pyodide)",
      "language": "python"
    },
    "language_info": {
      "codemirror_mode": {
        "name": "python",
        "version": 3
      },
      "file_extension": ".py",
      "mimetype": "text/x-python",
      "name": "python",
      "nbconvert_exporter": "python",
      "pygments_lexer": "ipython3",
      "version": "3.8"
    }
  },
  "nbformat_minor": 5,
  "nbformat": 4,
  "cells": [
    {
      "id": "e74224cd-bc05-454d-8438-9040d7141454",
      "cell_type": "code",
      "source": "#import libraries \nimport numpy as np\nimport pandas as pd\nimport geopandas as gpd\nfrom matplotlib import cm\nimport matplotlib.pyplot as plt\nimport seaborn as sns\nfrom IPython import display\nfrom tqdm import tqdm\nimport imageio.v2 as imageio\nimport glob\nimport warnings\nwarnings.filterwarnings('ignore')\ncmap = cm.get_cmap('rocket')\n\n\n#Load and Inspect Data \ndata = pd.read_csv('sugar_consumption_dataset.csv')\nglobe = gpd.read_file('/kaggle/input/shpfile/World_Map.shp')\ndata.info()\n\n#style \n<class 'pandas.core.frame.DataFrame'>\nRangeIndex: 10000 entries, 0 to 9999\nData columns (total 26 columns):\n\n#Data Exploration\ndata.describe().style.background_gradient()\ndata.describe(include='O')\n\n#identify and visualize missing datas\nmissing_df = data.isnull().sum().reset_index()\nmissing_df.columns = ['features','count']\nmissing_df['count_%'] = missing_df['count']/data.shape[0]*100\nmissing_df[missing_df['count']>0].style.bar(subset=['count'], color='red')\n\n#display data\ndata.head()\n\nglobal_trend = data.groupby('Year')['Total_Sugar_Consumption'].agg(['mean','median','std'])\nsns.set(style=\"whitegrid\")\n\n# Create the figure\nplt.figure(figsize=(8, 4))\n\n# Plot mean\nplt.plot(global_trend.index, global_trend['mean'], label='Mean', color='#D2691E', linewidth=2)\n\n# Plot median\nplt.plot(global_trend.index, global_trend['median'], label='Median', color='#6A5ACD', linestyle='--', linewidth=2)\n\n# Plot shaded area for standard deviation (mean ± std)\nplt.fill_between(global_trend.index,\n                 global_trend['mean'] - global_trend['std'],\n                 global_trend['mean'] + global_trend['std'],\n                 color='#D2691E',\n                 alpha=0.2,\n                 label='±Std Dev')\n\n# Labels and legend\nplt.title(\"Global Sugar Consumption Trend Over Time\", fontsize=18)\nplt.xlabel(\"Year\")\nplt.ylabel(\"Sugar Consumption\")\nplt.legend()\nplt.tight_layout()\nplt.show()\n\n\n# data preparation\n   Converts country names in both datasets (data and globe) to lowercase to ensure proper merging\ndata['Country'] = data['Country'].apply(str.lower)\nglobe['NAME'] = globe['NAME'].apply(str.lower)\n\n   \nconsumption_ = data['Total_Sugar_Consumption'].median()\n\nagg_data = data.groupby('Country')['Total_Sugar_Consumption'].mean().rename('Consumption').reset_index()\n\n# merging and handling missing datas\nmerge_df = pd.merge(globe,agg_data,how='left',left_on=['NAME'],right_on=['Country'])\nmerge_df.fillna(consumption_,inplace=True)\n\n    # Visualization\nplt.figure(figsize=(8,8))\nplt.subplot(211)\nmerge_df.plot(column='Consumption',cmap='Reds', linewidth=0.3, ax=plt.gca(), edgecolor='0.9')\nplt.xticks([])\nplt.yticks([])\nplt.box(False)\nplt.title(f'Average Global Sugar Consumption Per Country',fontsize=18)\n\n       # Bar Chart (Total Consumption)\nplt.subplot(212)\nagg_data = data.groupby('Country')['Total_Sugar_Consumption'].sum().rename('Consumption').reset_index()\nnorm = plt.Normalize(agg_data.Consumption.min(), agg_data.Consumption.max())\nbars = sns.barplot(x=agg_data.Country,y=agg_data.Consumption)\nbars.bar_label(\n    bars.containers[0],\n    fontsize=12,\n    label_type='center',\n    labels=[f'{x/1e9:.1f}B' for x in agg_data.Consumption],\n    rotation=90\n)\n\n     # A colored bar chart where each bar represents a country's total sugar consumption.\nfor bar in bars.patches:\n    height = bar.get_height()\n    bar.set_facecolor(cmap(norm(height)))\n\nplt.yticks([])\nplt.box(False)\nplt.title(f'Total Global Sugar Consumption Per Country',fontsize=18)\n\nplt.tight_layout()\nplt.show()\n\n\n   Animated Yearly Trends (1960–2023)\n   data preparation\ndata['Country'] = data['Country'].apply(str.lower)\nglobe['NAME'] = globe['NAME'].apply(str.lower)\nmin_consumption = data['Total_Sugar_Consumption'].min()\n\n        # Loop Through Each Year\nfor year in range(1960,2024):\n    agg_data = data[data.Year==year].groupby('Country')['Total_Sugar_Consumption'].sum().rename('Consumption').reset_index()\n\n        # Merge & Fill Missing Data\n    merge_df = pd.merge(globe,agg_data,how='left',left_on=['NAME'],right_on=['Country'])\n    merge_df.fillna(min_consumption,inplace=True)\n\n       # visualisation\n    display.clear_output()\n    plt.figure(figsize=(8,4))\n    merge_df.plot(column='Consumption',cmap='Reds', linewidth=0.3, ax=plt.gca(), edgecolor='0.9')\n    plt.xticks([])\n    plt.yticks([])\n    plt.box(False)\n    plt.title(f'Global Sugar Consumption Year:{year}',fontsize=18)\n    \n    plt.tight_layout()\n    plt.savefig('image_year_{:04d}.png'.format(year))\n    plt.show()\n\n\nanim_file = 'consumption.gif'\n\nwith imageio.get_writer(anim_file, mode='I',duration=1, loop=0) as writer:\n    filenames = glob.glob('/kaggle/working/image*.png')\n    filenames = sorted(filenames)\n    for filename in filenames:\n        image = imageio.imread(filename)\n        writer.append_data(image)\n    image = imageio.imread(filename)\n    writer.append_data(image)",
      "metadata": {
        "trusted": true
      },
      "outputs": [],
      "execution_count": null
    }
  ]
}